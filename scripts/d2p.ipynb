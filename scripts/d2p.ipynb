{
 "cells": [
  {
   "cell_type": "code",
   "execution_count": 1,
   "id": "d462fb9e-c8c0-4dfd-b753-574eaa1d4105",
   "metadata": {},
   "outputs": [
    {
     "name": "stdout",
     "output_type": "stream",
     "text": [
      "Processed data written to Processed_Vs_with_Pressure.txt\n"
     ]
    }
   ],
   "source": [
    "import numpy as np\n",
    "import V2RhoT_gibbs_lib as lib  # Importing the module with the function lithostatic_pressure\n",
    "\n",
    "# File paths\n",
    "input_file = 'Test_Vs.txt'  # Input file path\n",
    "output_file = 'Processed_Vs_with_Pressure.txt'  # Output file path\n",
    "\n",
    "# Read the input file directly\n",
    "data = np.loadtxt(input_file, skiprows=1, comments='#')  # Skip the first row and ignore comments\n",
    "\n",
    "# Separate the columns\n",
    "distance = data[:, 0]\n",
    "depth = -1 * data[:, 1]  # Negate depth for pressure calculation\n",
    "vs = data[:, 2]\n",
    "\n",
    "# Calculate pressure using the lithostatic_pressure function from V2RhoT_gibbs_lib.py\n",
    "pressure = np.array([lib.pressure_inter(dep) for dep in depth])  # Apply pressure calculation for each depth\n",
    "\n",
    "# Write the output data to a new file\n",
    "with open(output_file, 'w') as f:\n",
    "    f.write(\"# Distance(km)    Depth(km)    Pressure(bar)    Vs(km/s)\\n\")  # Adjust the pressure unit as needed\n",
    "    for d, dep, p, v in zip(distance, depth, pressure, vs):\n",
    "        f.write(f\"{d:.6f}    {dep:.6f}    {p:.6f}    {v:.6f}\\n\")\n",
    "\n",
    "# Run the process\n",
    "print(f\"Processed data written to {output_file}\")\n"
   ]
  },
  {
   "cell_type": "code",
   "execution_count": null,
   "id": "45320166-dd7d-4cbc-833b-79df5e678591",
   "metadata": {},
   "outputs": [],
   "source": []
  }
 ],
 "metadata": {
  "kernelspec": {
   "display_name": "Python 3 (ipykernel)",
   "language": "python",
   "name": "python3"
  },
  "language_info": {
   "codemirror_mode": {
    "name": "ipython",
    "version": 3
   },
   "file_extension": ".py",
   "mimetype": "text/x-python",
   "name": "python",
   "nbconvert_exporter": "python",
   "pygments_lexer": "ipython3",
   "version": "3.12.3"
  }
 },
 "nbformat": 4,
 "nbformat_minor": 5
}
